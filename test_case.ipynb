{
 "cells": [
  {
   "cell_type": "markdown",
   "metadata": {},
   "source": [
    "# Defining Algorithm and Structures"
   ]
  },
  {
   "cell_type": "code",
   "execution_count": 203,
   "metadata": {},
   "outputs": [],
   "source": [
    "class User:\n",
    "    def __init__(self, name,user_type, shift, priority):\n",
    "        \"\"\"\n",
    "        A data structure to hold user information.\n",
    "        There are 2 types of users: Employees and Visitors.\n",
    "        Employees are assigned a shift and priority.\n",
    "        Visitors are only assigned a priority.\n",
    "\n",
    "        Args:\n",
    "            name (str): The name of the user.\n",
    "            user_type (str): The type of user. Either \"emp\" or \"vis\".\n",
    "            shift (int): The index of the shift the user is assigned to.\n",
    "            priority (int): The priority level of the user. 0 is highest priority.\n",
    "        \"\"\"\n",
    "        self.name = name\n",
    "        self.user_type = user_type\n",
    "        self.shift = shift\n",
    "        self.priority = priority\n",
    "        self.assigned_slot = None\n",
    "    "
   ]
  },
  {
   "cell_type": "code",
   "execution_count": 170,
   "metadata": {},
   "outputs": [],
   "source": [
    "class PrakingSlot:\n",
    "    def __init__(self, slot, priority):\n",
    "        \"\"\"\n",
    "        A data structure to hold parking slot information.\n",
    "        Each slot is assigned a priority and is initially unoccupied.\n",
    "\n",
    "        Args:\n",
    "            slot (str): The name of the slot. Ex: \"A1\" where \"A\" is the parking area and \"1\" is the slot number.\n",
    "            priority (int): The priority level of the slot. 1 is highest priority.\n",
    "        \"\"\"\n",
    "        self.slot = slot\n",
    "        self.priority = priority\n",
    "        self.is_occupied = False"
   ]
  },
  {
   "cell_type": "code",
   "execution_count": 204,
   "metadata": {},
   "outputs": [],
   "source": [
    "def occupied_constraint(user):\n",
    "    \"\"\"\n",
    "    Checks if the user is assigned to an occupied slot.\n",
    "\n",
    "    Args:\n",
    "        user (User): The user to check.\n",
    "\n",
    "    Returns:\n",
    "        bool: True if the user is assigned to an unoccupied slot, False otherwise.\n",
    "    \"\"\"\n",
    "    \n",
    "    # If the assigned slot is unoccupied, set it as occupied and return True\n",
    "    if not user.assigned_slot.is_occupied:\n",
    "        user.assigned_slot.is_occupied = True\n",
    "        return True\n",
    "    else:\n",
    "        return False"
   ]
  },
  {
   "cell_type": "code",
   "execution_count": 205,
   "metadata": {},
   "outputs": [],
   "source": [
    "class DynamicParkingAllocation:\n",
    "    def __init__(self, variables, domains, constraints):\n",
    "        \"\"\"\n",
    "        The dynamic parking allocation algorithm.\n",
    "\n",
    "        Args:\n",
    "            variables (list): A list of User objects.\n",
    "            domains (list): A list of ParkingSlot objects.\n",
    "            constraints (list): A list of functions that take a User object as input and return a boolean.\n",
    "        \"\"\"\n",
    "\n",
    "        self.variables = variables\n",
    "        self.domains = domains\n",
    "        self.constraints = constraints\n",
    "        \n",
    "        # Sort the variables and domains by priority so that the highest priority variables are assigned first.\n",
    "        self.variables = sorted(self.variables, key=lambda x: x.priority)\n",
    "        self.domains = sorted(self.domains, key=lambda x: x.priority)\n",
    "        \n",
    "        self.assignments = {}\n",
    "        \n",
    "        \n",
    "    def depth_first_backtracking_search(self):\n",
    "        # If all variables are assigned, search is complete, return the assignments.\n",
    "        if all(self.assignments.get(variable.name) is not None\n",
    "               for variable in self.variables):\n",
    "            return self.assignments\n",
    "        \n",
    "        # Select an unassigned variable.\n",
    "        var = self.select_unassigned_variable()\n",
    "        \n",
    "        # Try assigning each value in the domain of the variable.\n",
    "        for value in self.domains:\n",
    "            self.assignments[var.name] = value.slot\n",
    "            var.assigned_slot = value\n",
    "            \n",
    "            # If the assignment is consistent, continue the search.\n",
    "            if self.consistent(var):\n",
    "                result = self.depth_first_backtracking_search()\n",
    "                if result is not None:\n",
    "                    return result\n",
    "            # If the assignment is not consistent, remove the assignment and try the next value.\n",
    "            else:\n",
    "                self.assignments[var.name] = None\n",
    "                var.assigned_slot = None\n",
    "        # If no value in the domain of the variable is consistent, return failure.\n",
    "        return None\n",
    "    \n",
    "    def select_unassigned_variable(self):\n",
    "        # Select the first unassigned variable.\n",
    "        for variable in self.variables:\n",
    "            if self.assignments.get(variable.name) is None:\n",
    "                return variable\n",
    "    \n",
    "    def consistent(self, var):\n",
    "        # Check if the assignment is consistent with all constraints.\n",
    "        for constraint in self.constraints:\n",
    "            if not constraint(var):\n",
    "                return False\n",
    "        return True\n",
    "        \n",
    "    \n",
    "    \n",
    "    "
   ]
  },
  {
   "cell_type": "markdown",
   "metadata": {},
   "source": [
    "# Test Case 1"
   ]
  },
  {
   "cell_type": "code",
   "execution_count": 188,
   "metadata": {},
   "outputs": [],
   "source": [
    "emp_1 = User('emp_1','emp', 1, 1)\n",
    "emp_2 = User('emp_2','emp', 2, 2)\n",
    "emp_3 = User('emp_3','emp', 2, 2)\n",
    "emp_4 = User('emp_4','emp', 3, 3)\n",
    "\n",
    "vis_1 = User('vis_1','vis', 4, 4)\n",
    "vis_2 = User('vis_2','vis', 4, 4)"
   ]
  },
  {
   "cell_type": "code",
   "execution_count": 174,
   "metadata": {},
   "outputs": [],
   "source": [
    "variable = [emp_1, emp_2, emp_3, emp_4, vis_1, vis_2]"
   ]
  },
  {
   "cell_type": "code",
   "execution_count": 175,
   "metadata": {},
   "outputs": [],
   "source": [
    "slot_A1 = PrakingSlot('A1', 1)\n",
    "slot_A2 = PrakingSlot('A2', 1)\n",
    "slot_A3 = PrakingSlot('A3', 1)\n",
    "slot_A4 = PrakingSlot('A4', 1)\n",
    "slot_A5 = PrakingSlot('A5', 1)\n",
    "\n",
    "slot_B1 = PrakingSlot('B1', 2)\n",
    "slot_B2 = PrakingSlot('B2', 2)\n",
    "slot_B3 = PrakingSlot('B3', 2)\n",
    "slot_B4 = PrakingSlot('B4', 2)"
   ]
  },
  {
   "cell_type": "code",
   "execution_count": 176,
   "metadata": {},
   "outputs": [],
   "source": [
    "domains = [slot_A1, slot_A2, slot_A3, slot_A4, slot_A5, slot_B1, slot_B2, slot_B3, slot_B4]"
   ]
  },
  {
   "cell_type": "code",
   "execution_count": 177,
   "metadata": {},
   "outputs": [],
   "source": [
    "dpa = DynamicParkingAllocation(variable, domains, [occupied_constraint])"
   ]
  },
  {
   "cell_type": "code",
   "execution_count": 178,
   "metadata": {},
   "outputs": [],
   "source": [
    "slots_assignments = dpa.depth_first_backtracking_search()"
   ]
  },
  {
   "cell_type": "code",
   "execution_count": 179,
   "metadata": {},
   "outputs": [
    {
     "name": "stdout",
     "output_type": "stream",
     "text": [
      "User emp_1 has been assigned A1 parking slot\n",
      "User emp_2 has been assigned A2 parking slot\n",
      "User emp_3 has been assigned A3 parking slot\n",
      "User emp_4 has been assigned A4 parking slot\n",
      "User vis_1 has been assigned A5 parking slot\n",
      "User vis_2 has been assigned B1 parking slot\n"
     ]
    }
   ],
   "source": [
    "for key, value in slots_assignments.items():\n",
    "    print(f\"User {key} has been assigned {value} parking slot\")"
   ]
  },
  {
   "cell_type": "markdown",
   "metadata": {},
   "source": [
    "# Test Case 2"
   ]
  },
  {
   "cell_type": "code",
   "execution_count": 197,
   "metadata": {},
   "outputs": [],
   "source": [
    "slot_A1 = PrakingSlot('A1', 1)\n",
    "slot_A2 = PrakingSlot('A2', 1)\n",
    "slot_A3 = PrakingSlot('A3', 1)\n",
    "slot_A4 = PrakingSlot('A4', 1)\n",
    "slot_A5 = PrakingSlot('A5', 1)\n",
    "\n",
    "slot_B1 = PrakingSlot('B1', 2)\n",
    "slot_B2 = PrakingSlot('B2', 2)\n",
    "slot_B3 = PrakingSlot('B3', 2)\n",
    "slot_B4 = PrakingSlot('B4', 2)\n",
    "\n",
    "slot_c1 = PrakingSlot('C1', 3)\n",
    "slot_c2 = PrakingSlot('C2', 3)\n",
    "slot_c3 = PrakingSlot('C3', 3)"
   ]
  },
  {
   "cell_type": "code",
   "execution_count": 198,
   "metadata": {},
   "outputs": [],
   "source": [
    "emp_1 = User('emp_1','emp', 1, 3)\n",
    "emp_2 = User('emp_2','emp', 2, 2)\n",
    "emp_3 = User('emp_3','emp', 2, 2)\n",
    "emp_4 = User('emp_4','emp', 3, 1)\n",
    "emp_5 = User('emp_5','emp', 3, 1)\n",
    "\n",
    "vis_1 = User('vis_1','vis','vis', 0)\n",
    "vis_2 = User('vis_2','vis','vis', 0)\n",
    "vis_3 = User('vis_3','vis','vis', 4)"
   ]
  },
  {
   "cell_type": "code",
   "execution_count": 199,
   "metadata": {},
   "outputs": [],
   "source": [
    "variables = [emp_1, emp_2, emp_3, emp_4, emp_5, vis_1, vis_2, vis_3]\n",
    "domains = [slot_A1, slot_A2, slot_A3, slot_A4, slot_A5, slot_B1, slot_B2, slot_B3, slot_B4, slot_c1, slot_c2, slot_c3]"
   ]
  },
  {
   "cell_type": "code",
   "execution_count": 200,
   "metadata": {},
   "outputs": [],
   "source": [
    "dpa = DynamicParkingAllocation(variables, domains, [occupied_constraint])"
   ]
  },
  {
   "cell_type": "code",
   "execution_count": 201,
   "metadata": {},
   "outputs": [],
   "source": [
    "assignments = dpa.depth_first_backtracking_search()"
   ]
  },
  {
   "cell_type": "code",
   "execution_count": 202,
   "metadata": {},
   "outputs": [
    {
     "name": "stdout",
     "output_type": "stream",
     "text": [
      "User vis_1 has been assigned A1 parking slot\n",
      "User vis_2 has been assigned A2 parking slot\n",
      "User emp_4 has been assigned A3 parking slot\n",
      "User emp_5 has been assigned A4 parking slot\n",
      "User emp_2 has been assigned A5 parking slot\n",
      "User emp_3 has been assigned B1 parking slot\n",
      "User emp_1 has been assigned B2 parking slot\n",
      "User vis_3 has been assigned B3 parking slot\n"
     ]
    }
   ],
   "source": [
    "for key, value in assignments.items():\n",
    "    print(f\"User {key} has been assigned {value} parking slot\")"
   ]
  }
 ],
 "metadata": {
  "kernelspec": {
   "display_name": "Python 3",
   "language": "python",
   "name": "python3"
  },
  "language_info": {
   "codemirror_mode": {
    "name": "ipython",
    "version": 3
   },
   "file_extension": ".py",
   "mimetype": "text/x-python",
   "name": "python",
   "nbconvert_exporter": "python",
   "pygments_lexer": "ipython3",
   "version": "3.11.4"
  }
 },
 "nbformat": 4,
 "nbformat_minor": 2
}
